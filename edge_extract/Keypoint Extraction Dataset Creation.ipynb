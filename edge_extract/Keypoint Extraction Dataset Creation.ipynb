{
 "cells": [
  {
   "cell_type": "code",
   "execution_count": 5,
   "metadata": {
    "collapsed": false
   },
   "outputs": [
    {
     "name": "stdout",
     "output_type": "stream",
     "text": [
      "1577\n"
     ]
    }
   ],
   "source": [
    "# we can use multiple data sources for this\n",
    "# Flukebook\n",
    "from __future__ import division, print_function\n",
    "from os.path import join\n",
    "import cPickle as pickle\n",
    "\n",
    "\n",
    "with open('../dataset_loc', 'r') as f:\n",
    "    dataset_loc = f.read().rstrip()\n",
    "    \n",
    "with open(join(dataset_loc, 'Flukes/Flukebook/flukebook_points_orig.pkl'), 'r') as f:\n",
    "    fb_points = pickle.load(f)\n",
    "print(len(fb_points))"
   ]
  },
  {
   "cell_type": "code",
   "execution_count": 6,
   "metadata": {
    "collapsed": false
   },
   "outputs": [
    {
     "name": "stdout",
     "output_type": "stream",
     "text": [
      "1970\n"
     ]
    }
   ],
   "source": [
    "# Zooniverse\n",
    "with open(join(dataset_loc, 'ibs_points_allindv.pkl'), 'r') as f:\n",
    "    zsl_points = pickle.load(f)\n",
    "    \n",
    "print(len(zsl_points))"
   ]
  },
  {
   "cell_type": "code",
   "execution_count": 41,
   "metadata": {
    "collapsed": false
   },
   "outputs": [
    {
     "name": "stdout",
     "output_type": "stream",
     "text": [
      "489\n"
     ]
    }
   ],
   "source": [
    "# Our own annotations\n",
    "from glob import glob\n",
    "import json\n",
    "annotation_path = \"/home/andrew/envs/whaleFlukes/whale_edge_annotations/annotation_info\"\n",
    "\n",
    "all_annotations = glob(join(annotation_path, '*'))\n",
    "annotation_points = []\n",
    "for annotation_fn in all_annotations:\n",
    "    with open(annotation_fn, 'r') as f:\n",
    "        annotation = json.load(f)\n",
    "        if annotation[1]['done'] and not annotation[1]['bad'] and not annotation[1]['notchSubmerged']:\n",
    "            this_annot = {'fn':annotation[0]}\n",
    "            this_annot['left'] = annotation[1]['topInfo']['path'][-1]\n",
    "            this_annot['right'] = annotation[1]['topInfo']['path'][0]\n",
    "            this_annot['notch'] = annotation[1]['notch']\n",
    "            annotation_points.append(this_annot)\n",
    "print(len(annotation_points))"
   ]
  },
  {
   "cell_type": "code",
   "execution_count": 22,
   "metadata": {
    "collapsed": true
   },
   "outputs": [],
   "source": [
    "fb_imgs_dir = join(dataset_loc, \"Flukes/Flukebook/images\")\n",
    "zsl_and_annot_imgs_dir  = join(dataset_loc, \"Flukes/CRC_combined constrained\")"
   ]
  },
  {
   "cell_type": "code",
   "execution_count": 47,
   "metadata": {
    "collapsed": false
   },
   "outputs": [],
   "source": [
    "import cv2\n",
    "import numpy as np\n",
    "\n",
    "fixed_shape = (224, 224) # so I can transfer over Imagenet trained models\n",
    "\n",
    "def resize_point(new_shape, old_shape, point):\n",
    "    # assume point is x, y\n",
    "    scale_x = new_shape[1] / old_shape[1]\n",
    "    scale_y = new_shape[0] / old_shape[0]\n",
    "    \n",
    "    new_pt = np.array([int(point[0]*scale_x), int(point[1]*scale_y)]).reshape(1,-1)\n",
    "    return new_pt\n",
    "\n",
    "def convert_img_points(new_size, img, left, right, notch):\n",
    "    # assume new_size is y, x (makes sense for everything except cv2)\n",
    "    resized_img = cv2.resize(img, new_size[::-1])\n",
    "\n",
    "    resized_left = resize_point(new_size, img.shape, left)\n",
    "    resized_right = resize_point(new_size, img.shape, right)\n",
    "    resized_notch = resize_point(new_size, img.shape, notch)\n",
    "    \n",
    "    return resized_img, resized_left, resized_right, resized_notch\n",
    "    \n",
    "xyc = lambda pt: (pt['x'], pt['y'])\n",
    "    \n",
    "# these need to stay parallel\n",
    "fb_kp_imgs = []\n",
    "fb_kp_pts = []\n",
    "for annot in fb_points:\n",
    "    img = cv2.imread(join(fb_imgs_dir, annot['fn']))\n",
    "    resized_img, res_left, res_right, res_notch = convert_img_points(fixed_shape, img, \n",
    "                                     xyc(annot['points']['left']), xyc(annot['points']['right']), \n",
    "                                                                     xyc(annot['points']['notch']))\n",
    "    fb_kp_imgs.append(resized_img)\n",
    "    fb_kp_pts.append(np.hstack([res_left, res_right, res_notch]))\n",
    "# guide: so each row of <src>_kp_pts is going to be the x, y coords of each point in left, right, notch order"
   ]
  },
  {
   "cell_type": "code",
   "execution_count": 42,
   "metadata": {
    "collapsed": false
   },
   "outputs": [],
   "source": [
    "zsl_kp_imgs = []\n",
    "zsl_kp_pts = []\n",
    "\n",
    "seen_imgs = set()\n",
    "\n",
    "zsl_points.keys()\n",
    "\n",
    "for imgn in zsl_points:\n",
    "    img = cv2.imread(join(zsl_and_annot_imgs_dir, imgn))\n",
    "    resized_img, res_left, res_right, res_notch = convert_img_points(fixed_shape, img,\n",
    "                                        zsl_points[imgn]['left'], zsl_points[imgn]['right'], \n",
    "                                                                     zsl_points[imgn]['notch'])\n",
    "    seen_imgs.add(imgn)\n",
    "    zsl_kp_imgs.append(resized_img)\n",
    "    zsl_kp_pts.append(np.hstack([res_left, res_right, res_notch]))"
   ]
  },
  {
   "cell_type": "code",
   "execution_count": 45,
   "metadata": {
    "collapsed": false
   },
   "outputs": [
    {
     "name": "stdout",
     "output_type": "stream",
     "text": [
      "Already saw 13716-RWB081604_1241.jpg in the ZSL data, skipping\n",
      "Already saw 20120505-DB-4844.jpg in the ZSL data, skipping\n",
      "Already saw CINMS_20120713_A7491.jpg in the ZSL data, skipping\n",
      "Already saw 20100819-Frediani-6417.jpg in the ZSL data, skipping\n",
      "Already saw 12413-IMG_1268.jpg in the ZSL data, skipping\n",
      "Already saw JKJ-20120909-8605.jpg in the ZSL data, skipping\n",
      "Already saw 11833-JAC-20050911-0058.jpg in the ZSL data, skipping\n",
      "Already saw 10312-JAC01-61_13Edit.jpg in the ZSL data, skipping\n",
      "Already saw CINMS-20090417-A2446.jpg in the ZSL data, skipping\n",
      "Already saw 20101014-JAC-0164.jpg in the ZSL data, skipping\n",
      "Already saw 11902-r043-39f03.jpg in the ZSL data, skipping\n",
      "Already saw 20130930-DB-LA3A0580.jpg in the ZSL data, skipping\n",
      "Already saw CRC20120513-CTC-IMG_1725.jpg in the ZSL data, skipping\n",
      "Already saw BG-20120912-3026.jpg in the ZSL data, skipping\n",
      "Already saw 20100729-JAC-0026.jpg in the ZSL data, skipping\n",
      "Already saw 11791-TEC03-3-16.jpg in the ZSL data, skipping\n",
      "Already saw 11368-JW99-1-27.jpg in the ZSL data, skipping\n",
      "Already saw 20100801-JAC-B0024.jpg in the ZSL data, skipping\n",
      "Already saw 12109-UGW-070305-0032.jpg in the ZSL data, skipping\n",
      "Already saw 20140131-KA-HB_007.jpg in the ZSL data, skipping\n",
      "Already saw 10968-NB96-17-15.jpg in the ZSL data, skipping\n",
      "Already saw 9027-20080816-EAF-357edit.jpg in the ZSL data, skipping\n",
      "Already saw 10069-TEC92-11-21.jpg in the ZSL data, skipping\n",
      "Already saw CINMS_20120821_A9141.jpg in the ZSL data, skipping\n",
      "Already saw MHS20100704-9235.jpg in the ZSL data, skipping\n",
      "Already saw 12026-PStap050815fr8285.jpg in the ZSL data, skipping\n",
      "Already saw 20101013-JAC-0226.jpg in the ZSL data, skipping\n",
      "Already saw 11828-r0417-0477f36.jpg in the ZSL data, skipping\n",
      "Already saw 20131105-KD_1783.jpg in the ZSL data, skipping\n",
      "Already saw 20100801-JAC-B0030.jpg in the ZSL data, skipping\n",
      "Already saw CINMS-20090809-A8281.jpg in the ZSL data, skipping\n",
      "Already saw 10132-JAC88-79-27.jpg in the ZSL data, skipping\n",
      "Already saw 10177-JAC92-84-31.jpg in the ZSL data, skipping\n",
      "Already saw 13755-SWFSC_20050608-D4-0050.jpg in the ZSL data, skipping\n",
      "Already saw 20100914-JAC-0166.jpg in the ZSL data, skipping\n",
      "Already saw BG-20130708-7129.jpg in the ZSL data, skipping\n",
      "Already saw 10976-TEC03-64-17.jpg in the ZSL data, skipping\n",
      "Already saw CINMS_20120907_A9409.jpg in the ZSL data, skipping\n",
      "Already saw 20120424_1723-JF.jpg in the ZSL data, skipping\n",
      "Already saw CINMS-20090311-B0045.jpg in the ZSL data, skipping\n",
      "Already saw 9052-r3026f33Edit.jpg in the ZSL data, skipping\n",
      "Already saw 20120630-DB-0727.jpg in the ZSL data, skipping\n",
      "Already saw 11681-TEC03-37-23.jpg in the ZSL data, skipping\n",
      "Already saw 12423-20080918-EAF-0814EDIT.jpg in the ZSL data, skipping\n",
      "Already saw 11110-KT-20051010-0046.jpg in the ZSL data, skipping\n",
      "Already saw 11202-JAC98-56-23.jpg in the ZSL data, skipping\n",
      "Already saw 9023-JAC92-24-14.jpg in the ZSL data, skipping\n",
      "Already saw 20090826-JAC-0059.jpg in the ZSL data, skipping\n",
      "Already saw CINMS_20100213_A0592.jpg in the ZSL data, skipping\n",
      "Already saw CINMS_20120909_A9417.jpg in the ZSL data, skipping\n",
      "Already saw 11520-TEC01-20-19.jpg in the ZSL data, skipping\n",
      "Already saw 20120706-DB-4441.jpg in the ZSL data, skipping\n",
      "Already saw 20101105-PStap_1624.jpg in the ZSL data, skipping\n",
      "Already saw 20100916-JAC-0136.jpg in the ZSL data, skipping\n",
      "Already saw 10247-JAC92-82-16.jpg in the ZSL data, skipping\n",
      "Already saw 11909-JAC-012205-0013.jpg in the ZSL data, skipping\n",
      "Already saw CINMS-20090805-A7923.jpg in the ZSL data, skipping\n",
      "Already saw 11564-JAC01-59-16.jpg in the ZSL data, skipping\n",
      "Already saw 13512-JAC95-27-26.jpg in the ZSL data, skipping\n",
      "Already saw 10229-GHS88-33-30.jpg in the ZSL data, skipping\n",
      "Already saw 12402-20080217-FG-0303.jpg in the ZSL data, skipping\n",
      "Already saw 11429-JAC00-27-17a.jpg in the ZSL data, skipping\n",
      "Already saw 11889-JAC-091904-0059.jpg in the ZSL data, skipping\n",
      "Already saw WS_2013-06-22_BSound-0008.jpg in the ZSL data, skipping\n",
      "Already saw 9036-20080814-EAF-0429edit.jpg in the ZSL data, skipping\n",
      "Already saw PStap110422fr2520_Mn_ID_S#3_Wh2.jpg in the ZSL data, skipping\n",
      "Already saw 13792-20080617-D6-ABD_0064e.jpg in the ZSL data, skipping\n",
      "Already saw 10124-SWFSC-20051123-H-0039.jpg in the ZSL data, skipping\n",
      "Already saw 11735-TEC03-63-33.jpg in the ZSL data, skipping\n",
      "Already saw 20081001-Kanive-001.jpg in the ZSL data, skipping\n",
      "Already saw CINMS_20120725_A7979.jpg in the ZSL data, skipping\n",
      "Already saw BG-20110811-F1-8383.jpg in the ZSL data, skipping\n",
      "Already saw CINMS-20090904-A9620.jpg in the ZSL data, skipping\n",
      "Already saw 20100725-JAC-0122.jpg in the ZSL data, skipping\n",
      "Already saw CINMS-20090412-A2217.jpg in the ZSL data, skipping\n",
      "Already saw 10904-TEC96-03-10.jpg in the ZSL data, skipping\n",
      "Already saw JKJ-20120806-5076.jpg in the ZSL data, skipping\n",
      "Already saw 11807-JAC-091904-0062.jpg in the ZSL data, skipping\n",
      "Already saw 20120506-DB-5056.jpg in the ZSL data, skipping\n",
      "Already saw 10767-DUP93-13-33.jpg in the ZSL data, skipping\n",
      "Already saw 20101014-JAC-0138.jpg in the ZSL data, skipping\n",
      "Already saw 20110125-Opp-Arias_0103.jpg in the ZSL data, skipping\n",
      "Already saw 20100725-JAC-0109.jpg in the ZSL data, skipping\n",
      "Already saw CINMS_20120613_A6536.jpg in the ZSL data, skipping\n",
      "Already saw 20130930-DB-LA3A0402.jpg in the ZSL data, skipping\n",
      "Already saw 20130903-DB-LA3A0782.jpg in the ZSL data, skipping\n",
      "Already saw 11253-JAC98-55-23.jpg in the ZSL data, skipping\n",
      "Already saw 11866-JAC-080204-0015.jpg in the ZSL data, skipping\n",
      "Already saw 11420-EAF-20050928-0032.jpg in the ZSL data, skipping\n",
      "Already saw 13789-20080621-D9-ABR_0069edit.jpg in the ZSL data, skipping\n",
      "Already saw 20120511-DB-7181.jpg in the ZSL data, skipping\n",
      "Already saw 10243-TEC99-43-10A.jpg in the ZSL data, skipping\n",
      "Already saw 13621-BG01-85-22.jpg in the ZSL data, skipping\n",
      "Already saw 10535-JAC-072504-0035.jpg in the ZSL data, skipping\n",
      "Already saw 11841-JAC-073004-0040.jpg in the ZSL data, skipping\n",
      "Already saw 11217-TEC02-08-09A.jpg in the ZSL data, skipping\n",
      "Already saw 10044-JAC92-49-03.jpg in the ZSL data, skipping\n",
      "Already saw CINMS_20100805_A5547.jpg in the ZSL data, skipping\n",
      "Already saw 12045-MHS042205-8295A.jpg in the ZSL data, skipping\n",
      "Already saw 20121111-KD-1600.jpg in the ZSL data, skipping\n",
      "Already saw 11853-JAC-072504-0007.jpg in the ZSL data, skipping\n",
      "Already saw 13569-DKE97-2-07.jpg in the ZSL data, skipping\n",
      "Already saw 13752-EAF-20050729-0116.jpg in the ZSL data, skipping\n",
      "Already saw 8-28-09c-NB.jpg in the ZSL data, skipping\n",
      "Already saw 20110615-DominicLaniewicz-HBack3.jpg in the ZSL data, skipping\n",
      "Already saw CINMS_20120802_A8469.jpg in the ZSL data, skipping\n",
      "Already saw 11211-JAC03-090103-087.jpg in the ZSL data, skipping\n",
      "Already saw 10751-JAC93-50-01.jpg in the ZSL data, skipping\n",
      "Already saw 20101013-JAC-0073.jpg in the ZSL data, skipping\n",
      "Already saw 11101-JAC01-59-17.jpg in the ZSL data, skipping\n",
      "Already saw 12130-MHS052705-8692.jpg in the ZSL data, skipping\n",
      "Already saw CINMS-20090511-A3192.jpg in the ZSL data, skipping\n",
      "Already saw 11622-MN05aCA0091.jpg in the ZSL data, skipping\n",
      "Already saw 12034-8-10feb2008-CAG.jpg in the ZSL data, skipping\n",
      "Already saw 13715-TEC060304_047.jpg in the ZSL data, skipping\n",
      "Already saw 100712JScarff_2091.jpg in the ZSL data, skipping\n",
      "Already saw CINMS_20100626_A3839.jpg in the ZSL data, skipping\n",
      "Already saw 20131014_DB-LA3A9200.jpg in the ZSL data, skipping\n",
      "Already saw 20100727-JAC-D14-0085.jpg in the ZSL data, skipping\n",
      "Already saw CINMS_20100410_A1522.jpg in the ZSL data, skipping\n",
      "Already saw 20100913-JAC-0131.jpg in the ZSL data, skipping\n",
      "Already saw 12494-20080917-EAF-0048EDIT.jpg in the ZSL data, skipping\n",
      "Already saw 12029-EAF-20051117-0170.jpg in the ZSL data, skipping\n",
      "Already saw 20110130-ABD_0315.jpg in the ZSL data, skipping\n",
      "Already saw CINMS_20101111_A7314.jpg in the ZSL data, skipping\n",
      "Already saw 10745-JAC-071005-0021.jpg in the ZSL data, skipping\n",
      "Already saw JKJ-20120807-5927.jpg in the ZSL data, skipping\n",
      "Already saw CINMS_20100408_A1439.jpg in the ZSL data, skipping\n",
      "Already saw 20100726-JAC-0259.jpg in the ZSL data, skipping\n",
      "Already saw 11108-JJ97-821-28.jpg in the ZSL data, skipping\n",
      "Already saw CINMS_20120706_A7181.jpg in the ZSL data, skipping\n",
      "Already saw 20131019-DB-LA3A3383.jpg in the ZSL data, skipping\n",
      "Already saw 10538-JAC98-57-28.jpg in the ZSL data, skipping\n",
      "Already saw 20121025-JAC-0092.jpg in the ZSL data, skipping\n",
      "Already saw 11617-EAF072504-0075.jpg in the ZSL data, skipping\n",
      "Already saw CINMS_20120730_A8283.jpg in the ZSL data, skipping\n",
      "Already saw 20100726-Frediani-5139.jpg in the ZSL data, skipping\n",
      "Already saw 20090826-JAC-T1i-0045.jpg in the ZSL data, skipping\n",
      "Already saw 10623-JAC-070305-0013.jpg in the ZSL data, skipping\n",
      "Already saw 13736-SWFSC_20050605-D4-0008.jpg in the ZSL data, skipping\n",
      "Already saw 12149-JAC-070905-0027.jpg in the ZSL data, skipping\n",
      "Already saw CINMS-20090730-A7642.jpg in the ZSL data, skipping\n",
      "Already saw 20120506-DB-5119.jpg in the ZSL data, skipping\n",
      "Already saw 20110401-JAC_0162.jpg in the ZSL data, skipping\n",
      "Already saw BG-20100626-F2-4088.jpg in the ZSL data, skipping\n",
      "Already saw 20120416-ER-8967.jpg in the ZSL data, skipping\n",
      "Already saw 11619-20071030-EAF-0077.jpg in the ZSL data, skipping\n",
      "Already saw 14009-TEC03-20-23.jpg in the ZSL data, skipping\n",
      "Already saw 20120709-DB-6614.jpg in the ZSL data, skipping\n",
      "Already saw CINMS_20120726_A8001.jpg in the ZSL data, skipping\n",
      "Already saw CINMS_20100507_A1936.jpg in the ZSL data, skipping\n",
      "Already saw 20120513_3094-JF.jpg in the ZSL data, skipping\n",
      "Already saw 11848-JAC-080204-0129.jpg in the ZSL data, skipping\n",
      "Already saw 10643-20060806-GSS-0319.jpg in the ZSL data, skipping\n",
      "Already saw CRC20120618-CTC-IMG_4840.jpg in the ZSL data, skipping\n",
      "Already saw 20120902_0247-JF.jpg in the ZSL data, skipping\n",
      "Already saw 20090730-JAC-0059.jpg in the ZSL data, skipping\n",
      "Already saw 10063-JAC93-36-16.jpg in the ZSL data, skipping\n",
      "Already saw 20131105-KD_2018.jpg in the ZSL data, skipping\n",
      "Already saw 20100726-JAC-0133.jpg in the ZSL data, skipping\n",
      "Already saw 13775-20061010-GSS-0015EDIT.jpg in the ZSL data, skipping\n",
      "Already saw 10576-JAC95-69-30.jpg in the ZSL data, skipping\n",
      "Already saw 20100130-JAC-0161edit.jpg in the ZSL data, skipping\n",
      "Already saw 13561-DKE97-2-15.jpg in the ZSL data, skipping\n",
      "Already saw 12160-CINMS-20081115-A3209edit.jpg in the ZSL data, skipping\n",
      "Already saw 10933-TEC96-39-13.jpg in the ZSL data, skipping\n",
      "Already saw 20120707-IS-Mn1.jpg in the ZSL data, skipping\n",
      "Already saw CINMS_20120711_A7323.jpg in the ZSL data, skipping\n",
      "Already saw 20101016-PStap_9532.jpg in the ZSL data, skipping\n",
      "Already saw MHS20100704-9241.jpg in the ZSL data, skipping\n",
      "Already saw CINMS_20120707_A7204.jpg in the ZSL data, skipping\n",
      "Already saw 12223-20061030-BHW-002.jpg in the ZSL data, skipping\n",
      "Already saw CINMS_20120608_A6416.jpg in the ZSL data, skipping\n",
      "Already saw 20100806-JAC-0176.jpg in the ZSL data, skipping\n",
      "Already saw BG-20120705-6810.jpg in the ZSL data, skipping\n",
      "Already saw 11653-IMG_1217.jpg in the ZSL data, skipping\n",
      "Already saw 20120510-DB-6963.jpg in the ZSL data, skipping\n",
      "Already saw JKJ-20120807-5467.jpg in the ZSL data, skipping\n",
      "Already saw CRC20120530-CTC-IMG_3524.jpg in the ZSL data, skipping\n",
      "Already saw CRC20120424-CTC-IMG_0089.jpg in the ZSL data, skipping\n",
      "Already saw 10437-DECHP90-81-33.jpg in the ZSL data, skipping\n",
      "Already saw 10122-JAC91-19-10.jpg in the ZSL data, skipping\n",
      "Already saw 10027-TEC02-20-04.jpg in the ZSL data, skipping\n",
      "Already saw 11633-JAC-072504-0079.jpg in the ZSL data, skipping\n",
      "Already saw 10897-EM95-09-18.jpg in the ZSL data, skipping\n",
      "Already saw 11719-TEC03-66-32.jpg in the ZSL data, skipping\n",
      "Already saw 20100914-JAC-0160.jpg in the ZSL data, skipping\n",
      "Already saw 13555-JRE96-2-04.jpg in the ZSL data, skipping\n",
      "Already saw 14012-JAC94-08-10.jpg in the ZSL data, skipping\n",
      "Already saw 20101016-PStap_9395.jpg in the ZSL data, skipping\n",
      "Already saw 10743-JAC96-07-0a.jpg in the ZSL data, skipping\n",
      "Already saw 20110828-JAC-0225-Mn21.jpg in the ZSL data, skipping\n",
      "Already saw 20121025-JAC-0108.jpg in the ZSL data, skipping\n",
      "Already saw JKJ-20120807-5811.jpg in the ZSL data, skipping\n",
      "Already saw 10410-JAC90-42-21.jpg in the ZSL data, skipping\n",
      "Already saw 12186-JAC-20060128-0277.jpg in the ZSL data, skipping\n",
      "Already saw 20101013-JAC-0144.jpg in the ZSL data, skipping\n",
      "Already saw 9013-JPB92-01-30A.jpg in the ZSL data, skipping\n",
      "Already saw BG-20120916-3508.jpg in the ZSL data, skipping\n",
      "Already saw 10712-JAC94-60-29.jpg in the ZSL data, skipping\n",
      "Already saw 11663-TEC03-66-16.jpg in the ZSL data, skipping\n",
      "Already saw 20090727-JAC-0088.jpg in the ZSL data, skipping\n",
      "Already saw CINMS_20120725_A7966.jpg in the ZSL data, skipping\n",
      "Already saw BG-20110810-8300.jpg in the ZSL data, skipping\n",
      "Already saw 10009-JLQ91-02-06.jpg in the ZSL data, skipping\n",
      "Already saw 20100731-JAC-0082.jpg in the ZSL data, skipping\n",
      "Already saw 10144-KF92-11_11Edit.jpg in the ZSL data, skipping\n",
      "Already saw CINMS_20120726_A8074.jpg in the ZSL data, skipping\n",
      "Already saw 10727-TEC98-22-04.jpg in the ZSL data, skipping\n",
      "Already saw CINMS_20100531_A2860.jpg in the ZSL data, skipping\n",
      "Already saw 20100801-JAC-A0087.jpg in the ZSL data, skipping\n",
      "Already saw 10790-TEC96-21-12.jpg in the ZSL data, skipping\n",
      "Already saw 20120527_3645-JF.jpg in the ZSL data, skipping\n",
      "Already saw CINMS_20120715_A7512.jpg in the ZSL data, skipping\n",
      "Already saw CINMS_20120509_A5764.jpg in the ZSL data, skipping\n",
      "Already saw 10858-TEC95-06-16.jpg in the ZSL data, skipping\n",
      "Already saw 11126-JAC98-49-05.jpg in the ZSL data, skipping\n",
      "Already saw 10219-JAC92-56-15A.jpg in the ZSL data, skipping\n",
      "Already saw 13524-DKE95-13-01.jpg in the ZSL data, skipping\n",
      "Already saw 11522-TEC01-20-22.jpg in the ZSL data, skipping\n",
      "Already saw 20100130-JAC-0108edit.jpg in the ZSL data, skipping\n",
      "Already saw CINMS-20090802-A7802.jpg in the ZSL data, skipping\n",
      "Already saw 20100727-JAC-D14-0006.jpg in the ZSL data, skipping\n",
      "Already saw 13797-20080621-ABR_0633e.jpg in the ZSL data, skipping\n",
      "Already saw 20110830-JAC-0057.jpg in the ZSL data, skipping\n",
      "Already saw 20100731-JAC-0196.jpg in the ZSL data, skipping\n",
      "Already saw CINMS_20100630_A4039.jpg in the ZSL data, skipping\n"
     ]
    }
   ],
   "source": [
    "annot_kp_imgs = []\n",
    "annot_kp_pts = []\n",
    "\n",
    "for annot in annotation_points:\n",
    "    if annot['fn'] in seen_imgs:\n",
    "        print(\"Already saw %s in the ZSL data, skipping\" % annot['fn'])\n",
    "        continue\n",
    "    img = cv2.imread(join(zsl_and_annot_imgs_dir, imgn))\n",
    "    resized_img, res_left, res_right, res_notch = convert_img_points(fixed_shape, img,\n",
    "                                        annot['left'], annot['right'], annot['notch'])\n",
    "    annot_kp_imgs.append(resized_img)\n",
    "    annot_kp_pts.append(np.hstack([res_left, res_right, res_notch]))"
   ]
  },
  {
   "cell_type": "code",
   "execution_count": 46,
   "metadata": {
    "collapsed": false
   },
   "outputs": [
    {
     "data": {
      "text/plain": [
       "262"
      ]
     },
     "execution_count": 46,
     "metadata": {},
     "output_type": "execute_result"
    }
   ],
   "source": [
    "len(annot_kp_imgs)"
   ]
  },
  {
   "cell_type": "code",
   "execution_count": 50,
   "metadata": {
    "collapsed": false
   },
   "outputs": [
    {
     "name": "stdout",
     "output_type": "stream",
     "text": [
      "2142\n",
      "714\n",
      "953\n"
     ]
    }
   ],
   "source": [
    "from itertools import chain\n",
    "all_kp_imgs = list(chain(fb_kp_imgs, zsl_kp_imgs, annot_kp_imgs))\n",
    "all_kp_pts = list(chain(fb_kp_pts, zsl_kp_pts, annot_kp_pts))\n",
    "\n",
    "from sklearn.utils import shuffle\n",
    "from sklearn.cross_validation import train_test_split\n",
    "\n",
    "kp_imgs, kp_pts = shuffle(all_kp_imgs, all_kp_pts)\n",
    "train_kp_imgs, test_kp_imgs, train_kp_pts, test_kp_pts = train_test_split(kp_imgs, kp_pts)\n",
    "train_kp_imgs, val_kp_imgs, train_kp_pts, val_kp_pts = train_test_split(train_kp_imgs, train_kp_pts)\n",
    "\n",
    "print(len(train_kp_imgs))\n",
    "print(len(val_kp_imgs))\n",
    "print(len(test_kp_imgs))"
   ]
  }
 ],
 "metadata": {
  "kernelspec": {
   "display_name": "Python 2",
   "language": "python",
   "name": "python2"
  },
  "language_info": {
   "codemirror_mode": {
    "name": "ipython",
    "version": 2
   },
   "file_extension": ".py",
   "mimetype": "text/x-python",
   "name": "python",
   "nbconvert_exporter": "python",
   "pygments_lexer": "ipython2",
   "version": "2.7.6"
  }
 },
 "nbformat": 4,
 "nbformat_minor": 0
}
