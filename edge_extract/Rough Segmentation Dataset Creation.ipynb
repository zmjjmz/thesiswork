{
 "cells": [
  {
   "cell_type": "code",
   "execution_count": 1,
   "metadata": {
    "collapsed": true
   },
   "outputs": [],
   "source": [
    "from __future__ import division, print_function\n",
    "from os.path import join\n",
    "import csv\n",
    "import json\n",
    "with open('../dataset_loc','r') as f:\n",
    "    dataset_loc = f.read().rstrip()\n",
    "imgs_dir = join(dataset_loc,'Flukes/CRC_combined constrained/')\n",
    "annotations_fn = join(dataset_loc,'Flukes/zooniverse-classifications/20150902_zooniverse export_classification data.csv')\n",
    "\n",
    "\n",
    "annotations = []\n",
    "with open(annotations_fn,'r') as annotations_f:\n",
    "    reader = csv.DictReader(annotations_f)\n",
    "    for row in reader:\n",
    "        for k in ['metadata','annotations','subject_data']:\n",
    "            row[k] = json.loads(row[k])\n",
    "        annotations.append(row)"
   ]
  },
  {
   "cell_type": "code",
   "execution_count": 44,
   "metadata": {
    "collapsed": false
   },
   "outputs": [
    {
     "name": "stdout",
     "output_type": "stream",
     "text": [
      "{ 'annotations': [ { u'task': u'T1',\n",
      "                     u'task_label': None,\n",
      "                     u'value': [ { u'details': [{ u'value': 1}],\n",
      "                                   u'frame': 0,\n",
      "                                   u'height': 745.2826691380908,\n",
      "                                   u'tool': 0,\n",
      "                                   u'width': 2926.305827520917,\n",
      "                                   u'x': 6.701681420225592,\n",
      "                                   u'y': 1.520985039057328}]},\n",
      "                   { u'task': u'T2',\n",
      "                     u'task_label': u'Select the highest point at each end of each whale tail',\n",
      "                     u'value': [ { u'details': [],\n",
      "                                   u'frame': 0,\n",
      "                                   u'tool': 0,\n",
      "                                   u'tool_label': u'Tail tip points',\n",
      "                                   u'x': 107.0843137572217,\n",
      "                                   u'y': 44.10856613266252},\n",
      "                                 { u'details': [],\n",
      "                                   u'frame': 0,\n",
      "                                   u'tool': 0,\n",
      "                                   u'tool_label': u'Tail tip points',\n",
      "                                   u'x': 2802.205897108087,\n",
      "                                   u'y': 120.15781808552892}]},\n",
      "                   { u'task': u'T3',\n",
      "                     u'task_label': u'Select the center point of the notch (the \"V\") on each tail',\n",
      "                     u'value': [ { u'details': [],\n",
      "                                   u'frame': 0,\n",
      "                                   u'tool': 0,\n",
      "                                   u'tool_label': u'Center point of \"V\" notch',\n",
      "                                   u'x': 1545.9020439208325,\n",
      "                                   u'y': 473.02634714682904}]}],\n",
      "  'created_at': '2015-06-01 16:07:44 UTC',\n",
      "  'expert': '',\n",
      "  'gold_standard': '',\n",
      "  'metadata': { u'finished_at': u'2015-06-01T16:07:47.406Z',\n",
      "                u'started_at': u'2015-06-01T16:07:17.975Z',\n",
      "                u'user_agent': u'Mozilla/5.0 (Macintosh; Intel Mac OS X 10_9_5) AppleWebKit/537.36 (KHTML, like Gecko) Chrome/43.0.2357.81 Safari/537.36',\n",
      "                u'user_language': u'en'},\n",
      "  'subject_data': { u'460716': { u'CRC-ID': u'15406',\n",
      "                                 u'filename': u'CINMS_20110622_A0572.JPG',\n",
      "                                 u'retired': False}},\n",
      "  'user_ip': 'b7b55c98e06ec81e095eed3085144923f8247e69',\n",
      "  'user_name': 'aninoag',\n",
      "  'workflow_id': '9',\n",
      "  'workflow_name': 'Fluke finder - cropped',\n",
      "  'workflow_version': '460954.460836'}\n"
     ]
    }
   ],
   "source": [
    "import pprint\n",
    "import random\n",
    "pp = pprint.PrettyPrinter(indent=2)\n",
    "sample = list(filter(lambda x: len(filter(lambda y: y['task'] == 'T1', x['annotations'])) == 1,annotations))\n",
    "#print(list(filter(lambda y: len(list(filter(lambda x: x['workflow_version'] == y,sample))) > 2,list(set([x['workflow_version'] for x in sample])))))\n",
    "pp.pprint(random.choice(sample))"
   ]
  },
  {
   "cell_type": "code",
   "execution_count": 45,
   "metadata": {
    "collapsed": false
   },
   "outputs": [
    {
     "name": "stdout",
     "output_type": "stream",
     "text": [
      "2167\n"
     ]
    }
   ],
   "source": [
    "from collections import defaultdict\n",
    "img_bboxes_map = defaultdict(lambda : [])\n",
    "bbox_count = 0\n",
    "for i in annotations:\n",
    "    fn = i['subject_data'][i['subject_data'].keys()[0]]['filename']\n",
    "    bbox_annots = filter(lambda x: x['task'] == 'T1', i['annotations'])\n",
    "    if len(bbox_annots) < 1:\n",
    "        continue\n",
    "    bbox_annot = bbox_annots[0]\n",
    "    if len(bbox_annot['value']) == 0:\n",
    "        continue\n",
    "        \n",
    "    img_bboxes_map[fn].append(bbox_annot['value'])\n",
    "print(len(img_bboxes_map))"
   ]
  }
 ],
 "metadata": {
  "kernelspec": {
   "display_name": "Python 2",
   "language": "python",
   "name": "python2"
  },
  "language_info": {
   "codemirror_mode": {
    "name": "ipython",
    "version": 2
   },
   "file_extension": ".py",
   "mimetype": "text/x-python",
   "name": "python",
   "nbconvert_exporter": "python",
   "pygments_lexer": "ipython2",
   "version": "2.7.6"
  }
 },
 "nbformat": 4,
 "nbformat_minor": 0
}
