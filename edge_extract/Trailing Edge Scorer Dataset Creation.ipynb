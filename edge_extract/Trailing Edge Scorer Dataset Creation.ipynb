{
 "cells": [
  {
   "cell_type": "markdown",
   "metadata": {},
   "source": [
    "# Score Image for Trailing Edge\n",
    "\n",
    "### The Goal\n",
    "\n",
    "- Given an image, label each pixel w/a score for how likely it is to be a part of the trailing edge\n",
    "    \n",
    "### Possible Approaches\n",
    "\n",
    "1) Treat it as a segmentation problem, have network output entire image w/each pixel labeled\n",
    "\n",
    "2) Do the above up to some downsample factor\n",
    "\n",
    "3) For each of the above\n",
    "    - Do we train a patch-wise network (making sure that it's big enough to see the entire patch...) giving us more data to work with\n",
    "    - Or train a network that downsamples & then recreates the full-size image?\n",
    "        - How do we deal with badPoints in this case?\n",
    "\n",
    "4) Should the image be given raw or cropped to the keypoints (i.e. beginning / end of trailing edge)?\n",
    "\n",
    "### Concerns\n",
    "\n",
    "- Do we have to make sure the aspect ratio of the image given to the network is the same as it will be when the trailing edge extractor uses it? Or can we resize it to a fixed size?\n",
    "\n",
    "- With 1) and 2), most pixels are going to be negative -- the network will likely just output an all negative region, so we need to make sure to include stuff like pixel weights\n",
    "\n",
    "- Fine-grained trailing edge extraction fails on the kinds of images that this approach is needed to correct, so we may not see any improvement at all as it will do a shit job of scoring the hard cases (i.e. those where a gradient isn't obvious)\n",
    "    - If too many trailing edges in the dataset were 'easily extracted', then the network will just learn to replicate the extraction algo and not bother w/the hard cases\n",
    "\n",
    "### Dataset Caveats\n",
    "\n",
    "- We only have ~500 manually annotated trailing edges that we know are good\n",
    "- There are 'bad regions' marked where the extraction failed no matter how much human intervention was applied\n",
    "    - How do we deal with these? We could ignore them, but then the network will basically learn the extraction algorithm...\n",
    "\n",
    "    \n"
   ]
  },
  {
   "cell_type": "code",
   "execution_count": 1,
   "metadata": {
    "collapsed": false
   },
   "outputs": [
    {
     "name": "stdout",
     "output_type": "stream",
     "text": [
      "Couldn't import dot_parser, loading of dot files will not be possible.\n",
      "\n",
      "+------\n",
      "\n",
      "<!!! WARNING !!!>\n",
      "[!custom_layers] WARNING: GPU seems unavailable\n",
      "<type 'exceptions.ImportError'>: No module named pylearn2.sandbox.cuda_convnet.filter_acts\n",
      "</!!! WARNING !!!>\n",
      "\n",
      "L______\n",
      "\n",
      "Trying /home/zach/envs/thesis/local/lib/python2.7/site-packages/flann-1.8.4-py2.7.egg/pyflann/lib/libflann.so\n"
     ]
    },
    {
     "name": "stderr",
     "output_type": "stream",
     "text": [
      "Using gpu device 0: GeForce GTX TITAN X (CNMeM is disabled)\n",
      "/home/zach/envs/thesis/local/lib/python2.7/site-packages/Theano-0.8.0.dev0-py2.7.egg/theano/tensor/signal/downsample.py:5: UserWarning: downsample module has been moved to the pool module.\n",
      "  warnings.warn(\"downsample module has been moved to the pool module.\")\n"
     ]
    }
   ],
   "source": [
    "import numpy as np\n",
    "from train_utils import dataset_loc\n",
    "from os.path import join, exists"
   ]
  },
  {
   "cell_type": "code",
   "execution_count": null,
   "metadata": {
    "collapsed": true
   },
   "outputs": [],
   "source": []
  },
  {
   "cell_type": "code",
   "execution_count": 2,
   "metadata": {
    "collapsed": false
   },
   "outputs": [
    {
     "name": "stdout",
     "output_type": "stream",
     "text": [
      "501\n"
     ]
    }
   ],
   "source": [
    "# Our own annotations\n",
    "from glob import glob\n",
    "import json\n",
    "annotation_path = \"/home/andrew/envs/whaleFlukes/whale_edge_annotations/annotation_info\"\n",
    "\n",
    "all_annotations = glob(join(annotation_path, '*'))\n",
    "annotation_points = []\n",
    "for annotation_fn in all_annotations:\n",
    "    with open(annotation_fn, 'r') as f:\n",
    "        annotation = json.load(f)\n",
    "        if annotation[1]['done'] and not annotation[1]['bad']:# and not annotation[1]['notchSubmerged']:\n",
    "            this_annot = {'fn':annotation[0]}\n",
    "            this_annot['path'] = annotation[1]['topInfo']['path']\n",
    "            this_annot['bad'] = annotation[1]['topInfo']['badPoints']\n",
    "            #this_annot['left'] = annotation[1]['topInfo']['path'][-1]\n",
    "            #this_annot['right'] = annotation[1]['topInfo']['path'][0]\n",
    "            #this_annot['notch'] = annotation[1]['notch']\n",
    "            annotation_points.append(this_annot)\n",
    "print(len(annotation_points))"
   ]
  },
  {
   "cell_type": "code",
   "execution_count": 3,
   "metadata": {
    "collapsed": false
   },
   "outputs": [
    {
     "data": {
      "text/plain": [
       "u'CINMS_20120718_A7744.jpg'"
      ]
     },
     "execution_count": 3,
     "metadata": {},
     "output_type": "execute_result"
    }
   ],
   "source": [
    "annotation_points[-1]['fn']"
   ]
  },
  {
   "cell_type": "markdown",
   "metadata": {},
   "source": [
    "### Let's go w/extracting (large) patches\n",
    "- Reasoning: patches posed a significant issue w/ the full segmentation case when they (and the network) were too small, as it wasn't clear (even to a human) if that small patch was part of a whale or not\n",
    "- However patches that are about the trailing edge should be much clearer\n",
    "\n",
    "### Scaling issues\n",
    "- Keeping everything at the same fixed w aspect ratio seems like a reasonable solution here, since then the relative scale will be the same (if the image is cropped to the whale)\n"
   ]
  },
  {
   "cell_type": "code",
   "execution_count": 4,
   "metadata": {
    "collapsed": false
   },
   "outputs": [],
   "source": [
    "import random\n",
    "from itertools import chain\n",
    "import cv2\n",
    "def get_patch_coords(right_center, patch_size, img_shape):\n",
    "    upper = right_center[0] - patch_size // 2\n",
    "    lower = right_center[0] + patch_size // 2\n",
    "    if upper < 0:\n",
    "        upper = 0\n",
    "        lower = patch_size\n",
    "    if lower > img_shape[0]:\n",
    "        lower = img_shape[0]\n",
    "        upper = img_shape[0] - patch_size\n",
    "    left = right_center[1] - patch_size\n",
    "    right = right_center[1]\n",
    "    if left < 0:\n",
    "        left = 0\n",
    "        right = patch_size\n",
    "    if right > img_shape[1]:\n",
    "        right = img_shape[1]\n",
    "        left = img_shape[1] - patch_size\n",
    "    return ((upper,left),(lower,right))\n",
    "\n",
    "def intersects(vertices, point):\n",
    "    # vertices is ul and lr in y,x\n",
    "    # assume point is also y, x\n",
    "    return not (vertices[0][0] > point[0] or \n",
    "        vertices[0][1] > point[1] or\n",
    "        vertices[1][0] < point[0] or\n",
    "        vertices[1][1] < point[1])\n",
    "\n",
    "def resize_fixedw(new_x, img):\n",
    "    # resize keeping aspect ratio\n",
    "    try:\n",
    "        ratio = img.shape[1] / img.shape[0]\n",
    "        new_y = int(new_x / ratio)\n",
    "    except ZeroDivisionError:\n",
    "        print(ratio)\n",
    "        print(img.shape)\n",
    "        raise ZeroDivisionError\n",
    "    return cv2.resize(img, (new_x, new_y), cv2.INTER_LANCZOS4)\n",
    "\n",
    "imgs_dir = join(dataset_loc, 'Flukes/CRC_combined constrained')\n",
    "def extract_patches(annotation_fn, annotation_path, patch_size, bad=None, resize_x=None):\n",
    "    # open the image\n",
    "    img = cv2.cvtColor(cv2.imread(annotation_fn), cv2.COLOR_BGR2GRAY)\n",
    "    # create label img\n",
    "    pos_class = np.zeros((img.shape[0],img.shape[1]), dtype=np.uint8)\n",
    "    for coords in annotation_path:\n",
    "        pos_class[coords[1], coords[0]] = 1 # mark the trailing edge\n",
    "    label_img = np.stack([pos_class, 1 - pos_class],axis=2) # so now :,:,0 is te, :,:,1 is bg\n",
    "    if resize_x is not None:\n",
    "        img = resize_fixedw(resize_x, img)\n",
    "        label_img = resize_fixedw(resize_x, label_img)\n",
    "    if img.shape[0] < patch_size or img.shape[1] < patch_size:\n",
    "        raise ValueError\n",
    "    pos_patches = []\n",
    "    neg_patches = []\n",
    "    # make sure we extract a bunch of 'positive' samples, i.e. those which have the trailing edge in them\n",
    "    npos_patch = (len(annotation_path) // patch_size)\n",
    "    for sample_ind, patch_start in enumerate(annotation_path[::patch_size]):\n",
    "        # extract the main patch with the center y at patch_start[y]\n",
    "        # then extract patches \n",
    "        right_col = patch_start[0]\n",
    "        if right_col - patch_size < 0:\n",
    "            continue\n",
    "        center_row = patch_start[1]\n",
    "        # given the center, we can extract the 'positive' patch\n",
    "        # TODO: maybe change this so that the center row is the average y-value\n",
    "        pos_vertices = get_patch_coords((center_row, right_col), patch_size, img.shape)\n",
    "        # check against bad points\n",
    "        if bad is not None and any([intersects(pos_vertices, annotation_path[i][::-1]) for i in bad]):\n",
    "            continue\n",
    "        pos_region = [slice(pos_vertices[0][0], pos_vertices[1][0]),\n",
    "                      slice(pos_vertices[0][1], pos_vertices[1][1]),\n",
    "                      slice(None)]\n",
    "        pos_patches.append((img[pos_region[:-1]], label_img[pos_region]))\n",
    "        # move up patch_size // 2 max_k times (or until you hit the top of the image)\n",
    "\n",
    "        # now we'll sample negative patches by generating a bunch of candidate rows that are above or below\n",
    "        # the center_row, given a buffer of patch_size // 2\n",
    "        above_rows = range(patch_size // 2, center_row - (patch_size // 2))\n",
    "        below_rows = range(center_row + (patch_size // 2), img.shape[0] - (patch_size // 2))\n",
    "        try:\n",
    "            random_row = random.choice(list(chain(above_rows, below_rows)))\n",
    "        except IndexError as ie:\n",
    "            continue\n",
    "        # for now we'll hard set it to one negative example per positive example, but of course this\n",
    "        # can be adjusted\n",
    "        # don't worry about the bad parts\n",
    "        neg_vertices = get_patch_coords((random_row, right_col), patch_size, img.shape)\n",
    "        # vertices is a set of coordinates marking the upper left and lower right (resp) corners\n",
    "        # get_patch_coords guarantees that these coordinates are in bounds\n",
    "        neg_region = [slice(neg_vertices[0][0], neg_vertices[1][0]),\n",
    "                  slice(neg_vertices[0][1], neg_vertices[1][1]),\n",
    "                  slice(None)]\n",
    "        neg_patches.append((img[neg_region[:-1]], label_img[neg_region]))\n",
    "    return pos_patches, neg_patches\n",
    "\n",
    "patch_size = 128\n",
    "pos_all = []\n",
    "neg_all = []\n",
    "fb_imgs_dir = join(dataset_loc,'Flukes/Flukebook/images')\n",
    "for annotation in annotation_points:\n",
    "    #print(annotation['fn'])\n",
    "    filepath = join(imgs_dir, annotation['fn'])\n",
    "    if not exists(filepath):\n",
    "        filepath = join(fb_imgs_dir, annotation['fn'])\n",
    "    \n",
    "    pos, neg = extract_patches(filepath, annotation['path'], patch_size, bad=annotation['bad'])\n",
    "    #print(pos)\n",
    "    pos_all = chain(pos_all, pos)\n",
    "    neg_all = chain(neg_all, neg)\n"
   ]
  },
  {
   "cell_type": "code",
   "execution_count": null,
   "metadata": {
    "collapsed": true
   },
   "outputs": [],
   "source": [
    "import cPickle as pickle\n",
    "import utool as ut\n",
    "with open(join(dataset_loc,'Flukes/Flukebook/flukebook_points_orig.pkl'), 'r') as f:\n",
    "    fb_curv = pickle.load(f)\n",
    "\n",
    "for curv in ut.ProgressIter(fb_curv):\n",
    "    # resize to be the same size as the zsl stuff\n",
    "    try:\n",
    "        pos, neg = extract_patches(join(fb_imgs_dir, curv['fn']), curv['FB_edge'], patch_size, resize_x=960)\n",
    "    except ZeroDivisionError, ValueError:\n",
    "        continue\n",
    "    pos_all = chain(pos_all, pos)\n",
    "    neg_all = chain(neg_all, neg)"
   ]
  },
  {
   "cell_type": "code",
   "execution_count": 5,
   "metadata": {
    "collapsed": false
   },
   "outputs": [],
   "source": [
    "pos_all = list(pos_all)\n",
    "neg_all = list(neg_all)"
   ]
  },
  {
   "cell_type": "code",
   "execution_count": 6,
   "metadata": {
    "collapsed": false
   },
   "outputs": [
    {
     "name": "stdout",
     "output_type": "stream",
     "text": [
      "(128, 128)\n"
     ]
    },
    {
     "data": {
      "image/png": "[encoded data removed]",
      "text/plain": [
       "<matplotlib.figure.Figure at 0x7fb32cf2dad0>"
      ]
     },
     "metadata": {},
     "output_type": "display_data"
    }
   ],
   "source": [
    "import matplotlib.pyplot as plt\n",
    "%matplotlib inline\n",
    "def display_patch(patch):\n",
    "    fig, axes = plt.subplots(1,2)\n",
    "    axes[0].axis('off')\n",
    "    axes[1].axis('off')\n",
    "    plt.gray()\n",
    "    axes[0].imshow(patch[0])\n",
    "    axes[1].imshow(patch[1][:,:,0]) # blue: background, green: whale, red: edge\n",
    "    print(patch[0].shape)\n",
    "    \n",
    "display_patch(random.choice(pos_all))"
   ]
  },
  {
   "cell_type": "code",
   "execution_count": null,
   "metadata": {
    "collapsed": false
   },
   "outputs": [],
   "source": []
  },
  {
   "cell_type": "code",
   "execution_count": 7,
   "metadata": {
    "collapsed": false
   },
   "outputs": [
    {
     "data": {
      "text/plain": [
       "3292"
      ]
     },
     "execution_count": 7,
     "metadata": {},
     "output_type": "execute_result"
    }
   ],
   "source": [
    "len(neg_all)"
   ]
  },
  {
   "cell_type": "code",
   "execution_count": 8,
   "metadata": {
    "collapsed": false
   },
   "outputs": [
    {
     "name": "stdout",
     "output_type": "stream",
     "text": [
      "(3763, 128, 128)\n",
      "(3763, 128, 128, 2)\n"
     ]
    }
   ],
   "source": [
    "all_patches = list(chain(pos_all, neg_all))\n",
    "all_patch_imgs, all_patch_labels = zip(*all_patches)\n",
    "all_patch_imgs = np.stack(all_patch_imgs, axis=0)\n",
    "all_patch_labels = np.stack(all_patch_labels, axis=0)\n",
    "from sklearn.utils import shuffle\n",
    "from sklearn.cross_validation import train_test_split\n",
    "\n",
    "patch_imgs, patch_labels = shuffle(all_patch_imgs, all_patch_labels)\n",
    "train_patch_imgs, test_patch_imgs, train_patch_labels, test_patch_labels = train_test_split(patch_imgs, \n",
    "                                                                                            patch_labels)\n",
    "train_patch_imgs, val_patch_imgs, train_patch_labels, val_patch_labels = train_test_split(train_patch_imgs, \n",
    "                                                                                          train_patch_labels)\n",
    "print(train_patch_imgs.shape)\n",
    "print(train_patch_labels.shape)"
   ]
  },
  {
   "cell_type": "code",
   "execution_count": 9,
   "metadata": {
    "collapsed": false
   },
   "outputs": [
    {
     "data": {
      "text/plain": [
       "<matplotlib.image.AxesImage at 0x7fb30f721510>"
      ]
     },
     "execution_count": 9,
     "metadata": {},
     "output_type": "execute_result"
    },
    {
     "data": {
      "image/png": "[encoded data removed]",
      "text/plain": [
       "<matplotlib.figure.Figure at 0x7fb326f2ad10>"
      ]
     },
     "metadata": {},
     "output_type": "display_data"
    }
   ],
   "source": [
    "plt.imshow(np.transpose(train_patch_labels.swapaxes(1,3),(0,1,3,2))[0,0,:,:])"
   ]
  },
  {
   "cell_type": "code",
   "execution_count": 10,
   "metadata": {
    "collapsed": false
   },
   "outputs": [
    {
     "data": {
      "text/plain": [
       "<matplotlib.image.AxesImage at 0x7fb2e8374a50>"
      ]
     },
     "execution_count": 10,
     "metadata": {},
     "output_type": "execute_result"
    },
    {
     "data": {
      "image/png": "[encoded data removed]",
      "text/plain": [
       "<matplotlib.figure.Figure at 0x7fb32cf2dd10>"
      ]
     },
     "metadata": {},
     "output_type": "display_data"
    }
   ],
   "source": [
    "plt.imshow(train_patch_imgs[0])"
   ]
  },
  {
   "cell_type": "code",
   "execution_count": null,
   "metadata": {
    "collapsed": false
   },
   "outputs": [],
   "source": []
  },
  {
   "cell_type": "code",
   "execution_count": 11,
   "metadata": {
    "collapsed": false
   },
   "outputs": [
    {
     "name": "stdout",
     "output_type": "stream",
     "text": [
      "[util_io] * save_cPkl(u'.../annot_te_128/train.pkl', data)\n",
      "[util_io] * save_cPkl(u'.../annot_te_128/val.pkl', data)\n",
      "[util_io] * save_cPkl(u'.../annot_te_128/test.pkl', data)\n",
      "[util_io] * save_cPkl(u'.../annot_te_128/meanstd.pkl', data)\n",
      "Took 0.26 seconds\n"
     ]
    }
   ],
   "source": [
    "from train_utils import save_dataset\n",
    "saveto = 'annot_te_128'\n",
    "save_dataset(join(dataset_loc,'Flukes/patches/%s' % saveto),\n",
    "             (train_patch_imgs, train_patch_labels),\n",
    "             (val_patch_imgs, val_patch_labels),\n",
    "             (test_patch_imgs, test_patch_labels), grey=True)"
   ]
  },
  {
   "cell_type": "code",
   "execution_count": 12,
   "metadata": {
    "collapsed": false
   },
   "outputs": [
    {
     "name": "stdout",
     "output_type": "stream",
     "text": [
      "[util_io] * save_cPkl(u'.../TEST_annot_te_128/train.pkl', data)\n",
      "[util_io] * save_cPkl(u'.../TEST_annot_te_128/val.pkl', data)\n",
      "[util_io] * save_cPkl(u'.../TEST_annot_te_128/test.pkl', data)\n",
      "[util_io] * save_cPkl(u'.../TEST_annot_te_128/meanstd.pkl', data)\n",
      "Took 0.01 seconds\n"
     ]
    }
   ],
   "source": [
    "saveto = 'TEST_annot_te_128'\n",
    "upto = 64\n",
    "save_dataset(join(dataset_loc,'Flukes/patches/%s' % saveto),\n",
    "             (train_patch_imgs[:upto], train_patch_labels[:upto]),\n",
    "             (val_patch_imgs[:upto], val_patch_labels[:upto]),\n",
    "             (test_patch_imgs[:upto], test_patch_labels[:upto]), grey=True)"
   ]
  },
  {
   "cell_type": "code",
   "execution_count": 13,
   "metadata": {
    "collapsed": false
   },
   "outputs": [],
   "source": [
    "#plt.imshow(ut.load_cPkl(join(join(dataset_loc,'Flukes/patches/%s' % 'annot_te_128','train.pkl')))[0][200])"
   ]
  }
 ],
 "metadata": {
  "kernelspec": {
   "display_name": "Python 2",
   "language": "python",
   "name": "python2"
  },
  "language_info": {
   "codemirror_mode": {
    "name": "ipython",
    "version": 2
   },
   "file_extension": ".py",
   "mimetype": "text/x-python",
   "name": "python",
   "nbconvert_exporter": "python",
   "pygments_lexer": "ipython2",
   "version": "2.7.6"
  }
 },
 "nbformat": 4,
 "nbformat_minor": 0
}
