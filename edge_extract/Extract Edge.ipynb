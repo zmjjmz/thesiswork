{
 "cells": [
  {
   "cell_type": "code",
   "execution_count": 45,
   "metadata": {
    "collapsed": true
   },
   "outputs": [],
   "source": [
    "import cv2\n",
    "from __future__ import division, print_function\n",
    "import numpy as np\n",
    "# given an image and a list of points, we want to extract patches s.t. they are centered (vertically) on the tail edge\n",
    "# we also want to extract negative patches, but this is a different task\n",
    "def extract(img, center, size):\n",
    "    # assume center is in x, y format\n",
    "    upper_border = center[1] - size[0]//2\n",
    "    lower_border = center[1] + size[0]//2\n",
    "    left_border = center[0] - size[1]//2\n",
    "    right_border = center[0] + size[1]//2\n",
    "    \n",
    "    extracted_patch = img[max(0,upper_border):min(img.shape[0],lower_border),\n",
    "                          max(0,left_border):min(img.shape[1],right_border)]\n",
    "    \n",
    "    fillrow_amount = 0\n",
    "    if upper_border < 0:\n",
    "        fillrow_amount = upper_border\n",
    "    elif lower_border > img.shape[0]: # assume that the patch's y isn't > img's y\n",
    "        fillrow_amount = lower_border - img.shape[0]\n",
    "    \n",
    "    # fill the row before we fill the col if we need to\n",
    "    if fillrow_amount != 0:\n",
    "        tovstack = [extracted_patch]\n",
    "        if fillrow_amount < 0:\n",
    "            tovstack.insert(0,[extracted_patch[0,:]]*abs(fillrow_amount))\n",
    "        else:\n",
    "            tovstack.append([extracted_patch[-1,:]]*fillrow_amount)\n",
    "        extracted_patch = np.vstack(tovstack)\n",
    "            \n",
    "    fillcol_amount = None\n",
    "    if left_border < 0:\n",
    "        fillcol_amount = left_border\n",
    "    elif right_border > img.shape[1]:\n",
    "        fillcol_amount = right_border - img.shape[1]\n",
    "    \n",
    "    if fillcol_amount != 0:\n",
    "        tohstack = [extracted_patch]\n",
    "        if fillcol_amount < 0:\n",
    "            tohstack.insert(0,[extracted_patch[:,0].reshape(-1,1)]*abs(fillcol_amount))\n",
    "        else:\n",
    "            tohstack.append([extracted_patch[:,-1].reshape(-1,1)]*fillcol_amount)\n",
    "        extracted_patch = np.hstack(tohstack)\n",
    "    \n",
    "    assert(extracted_patch.shape == size)\n",
    "    return extracted_patch, upper_border\n",
    "    \n",
    "def find_best_y(img, lower_real_coord):    \n",
    "    centerx = img.shape[1] // 2\n",
    "    gradient_y_image = cv2.Sobel(img,cv2.CV_64F,0,1,ksize=5)\n",
    "    new_y_center = np.argmax(gradient_y_image[:,centerx])\n",
    "    return new_y_center\n",
    "\n",
    "def extract_candidates(img, point_list, size):\n",
    "    candidates = []\n",
    "    for point in point_list:\n",
    "        initial_candidate, upper_border = extract(img, size, point)\n",
    "        new_y_center = upper_border + find_best_y(initial_candidate) # point is x,y\n",
    "        candidates.append(extract(img, size, (point[0],new_y_center)))\n",
    "    return candidates\n",
    "\n",
    "def line_between(p1, p2):\n",
    "    # return a function that gives the line between p1 and p2\n",
    "    # so that we can extract patches along that line\n",
    "    d = (p2[0] - p1[0], p2[1] - p1[1])\n",
    "    return lambda t: (p1[0] + t*d[0], p1[1] + t*d[1]) \n",
    "\n",
    "def sample_along_line(p1, p2, size):\n",
    "    # we want to determine how many steps along the line we'll sample so that we have no overlapping boxes\n",
    "    # we can assume that p1[x] < p2[x], i.e. we're going left to right\n",
    "    # if the angle that the line between p1 and p2 makes is between 45 and -45\n",
    "    line = line_between(p1, p2)\n",
    "    dX = p2[0] - p1[0]\n",
    "    dY = p2[1] - p1[1]\n",
    "    distance = np.sqrt(dX**2 + dY**2)\n",
    "    angle_between = np.arctan2(-1*dY,dX) # multiply by -1 since Y increases as it goes down\n",
    "    if abs(angle_between) > (np.pi / 4):\n",
    "        movement_amount = np.sin(angle_between)*size[1] # assume size[1] is y\n",
    "    else:\n",
    "        movement_amount = np.cos(angle_between)*size[0] # assume size[0] is x\n",
    "    line_percentage = 0.75*min(1.,abs(movement_amount) / distance)\n",
    "    t = 0 #line_percentage # the first one will be right outside of the bounding box\n",
    "    centers = []\n",
    "    while(t < (1-line_percentage)):\n",
    "        centers.append(line(t + line_percentage))\n",
    "        t += line_percentage\n",
    "    return centers"
   ]
  },
  {
   "cell_type": "code",
   "execution_count": 48,
   "metadata": {
    "collapsed": false
   },
   "outputs": [
    {
     "data": {
      "image/png": "[encoded data removed]",
      "text/plain": [
       "<matplotlib.figure.Figure at 0x7f335c937ed0>"
      ]
     },
     "metadata": {},
     "output_type": "display_data"
    }
   ],
   "source": [
    "import matplotlib.pyplot as plt\n",
    "%matplotlib inline\n",
    "\n",
    "def display_boxes(canvas_size, p1, p2, size):\n",
    "    canvas = np.ones(canvas_size)\n",
    "    all_points = [p1] + sample_along_line(p1, p2, size) + [p2]\n",
    "    for point in all_points:\n",
    "        upper_left = tuple(map(int,(point[0] - size[0]//2, point[1] - size[1]//2)))\n",
    "        bottom_right = tuple(map(int,(point[0] + size[0]//2, point[1] + size[1]//2)))\n",
    "        #print(upper_left)\n",
    "        #print(bottom_right)\n",
    "        cv2.rectangle(canvas, upper_left, bottom_right, color=0)\n",
    "    cv2.line(canvas, p1, p2, color=0)\n",
    "    plt.gray()\n",
    "    plt.imshow(canvas,interpolation='none')\n",
    "    \n",
    "\n",
    "#sample_along_line((10,200),(30,400),(16,16))\n",
    "display_boxes((100,100),(10,40),(60,80),(8,8))   "
   ]
  }
 ],
 "metadata": {
  "kernelspec": {
   "display_name": "Python 2",
   "language": "python",
   "name": "python2"
  },
  "language_info": {
   "codemirror_mode": {
    "name": "ipython",
    "version": 2
   },
   "file_extension": ".py",
   "mimetype": "text/x-python",
   "name": "python",
   "nbconvert_exporter": "python",
   "pygments_lexer": "ipython2",
   "version": "2.7.6"
  }
 },
 "nbformat": 4,
 "nbformat_minor": 0
}
