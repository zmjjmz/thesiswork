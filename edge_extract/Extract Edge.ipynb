{
 "cells": [
  {
   "cell_type": "code",
   "execution_count": 1,
   "metadata": {
    "collapsed": true
   },
   "outputs": [],
   "source": [
    "import cv2\n",
    "from __future__ import division, print_function\n",
    "# given an image and a list of points, we want to extract patches s.t. they are centered (vertically) on the tail edge\n",
    "# we also want to extract negative patches, but this is a different task\n",
    "def extract(img, center, size):\n",
    "    # assume center is in x, y format\n",
    "    upper_border = center[1] - size[0]//2\n",
    "    lower_border = center[1] + size[0]//2\n",
    "    left_border = center[0] - size[1]//2\n",
    "    right_border = center[0] + size[1]//2\n",
    "    \n",
    "    extracted_patch = img[max(0,upper_border):min(img.shape[0],lower_border),\n",
    "                          max(0,left_border):min(img.shape[1],right_border)]\n",
    "    \n",
    "    fillrow_amount = 0\n",
    "    if upper_border < 0:\n",
    "        fillrow_amount = upper_border\n",
    "    elif lower_border > img.shape[0]: # assume that the patch's y isn't > img's y\n",
    "        fillrow_amount = lower_border - img.shape[0]\n",
    "    \n",
    "    # fill the row before we fill the col if we need to\n",
    "    if fillrow_amount != 0:\n",
    "        tovstack = [extracted_patch]\n",
    "        if fillrow_amount < 0:\n",
    "            tovstack.insert(0,[extracted_patch[0,:]]*abs(fillrow_amount))\n",
    "        else:\n",
    "            tovstack.append([extracted_patch[-1,:]]*fillrow_amount)\n",
    "        extracted_patch = np.vstack(tovstack)\n",
    "            \n",
    "    fillcol_amount = None\n",
    "    if left_border < 0:\n",
    "        fillcol_amount = left_border\n",
    "    elif right_border > img.shape[1]:\n",
    "        fillcol_amount = right_border - img.shape[1]\n",
    "    \n",
    "    if fillcol_amount != 0:\n",
    "        tohstack = [extracted_patch]\n",
    "        if fillcol_amount < 0:\n",
    "            tohstack.insert(0,[extracted_patch[:,0].reshape(-1,1)]*abs(fillcol_amount))\n",
    "        else:\n",
    "            tohstack.append([extracted_patch[:,-1].reshape(-1,1)]*fillcol_amount)\n",
    "        extracted_patch = np.hstack(tohstack)\n",
    "    \n",
    "    assert(extracted_patch.shape == size)\n",
    "    return extracted_patch, upper_border\n",
    "    \n",
    "def find_best_y(img, lower_real_coord):    \n",
    "    centerx = img.shape[1] // 2\n",
    "    gradient_y_image = cv2.Sobel(img,cv2.CV_64F,0,1,ksize=5)\n",
    "    new_y_center = np.argmax(gradient_y_image[:,centerx])\n",
    "    return new_y_center\n",
    "\n",
    "def extract_candidates(img, point_list, size):\n",
    "    candidates = []\n",
    "    for point in point_list:\n",
    "        initial_candidate, upper_border = extract(img, size, point)\n",
    "        new_y_center = upper_border + find_best_y(initial_candidate) # point is x,y\n",
    "        candidates.append(extract(img, size, (point[0],new_y_center)))\n",
    "    return candidates\n"
   ]
  }
 ],
 "metadata": {
  "kernelspec": {
   "display_name": "Python 2",
   "language": "python",
   "name": "python2"
  },
  "language_info": {
   "codemirror_mode": {
    "name": "ipython",
    "version": 2
   },
   "file_extension": ".py",
   "mimetype": "text/x-python",
   "name": "python",
   "nbconvert_exporter": "python",
   "pygments_lexer": "ipython2",
   "version": "2.7.6"
  }
 },
 "nbformat": 4,
 "nbformat_minor": 0
}
