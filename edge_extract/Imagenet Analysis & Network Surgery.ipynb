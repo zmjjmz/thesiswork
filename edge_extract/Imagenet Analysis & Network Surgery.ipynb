{
 "cells": [
  {
   "cell_type": "code",
   "execution_count": 1,
   "metadata": {
    "collapsed": false
   },
   "outputs": [
    {
     "name": "stdout",
     "output_type": "stream",
     "text": [
      "Couldn't import dot_parser, loading of dot files will not be possible.\n",
      "\n",
      "+------\n",
      "\n",
      "<!!! WARNING !!!>\n",
      "[!custom_layers] WARNING: GPU seems unavailable\n",
      "<type 'exceptions.ImportError'>: No module named pylearn2.sandbox.cuda_convnet.filter_acts\n",
      "</!!! WARNING !!!>\n",
      "\n",
      "L______\n",
      "\n"
     ]
    },
    {
     "name": "stderr",
     "output_type": "stream",
     "text": [
      "Using gpu device 1: GeForce GTX TITAN X (CNMeM is disabled)\n"
     ]
    }
   ],
   "source": [
    "import numpy as np\n",
    "import matplotlib.pyplot as plt\n",
    "%matplotlib inline\n",
    "from train_utils import (\n",
    "    dataset_loc,\n",
    "    build_vgg16_class,\n",
    "    load_dataset\n",
    ")"
   ]
  },
  {
   "cell_type": "code",
   "execution_count": 2,
   "metadata": {
    "collapsed": false
   },
   "outputs": [],
   "source": [
    "vgg16_class = build_vgg16_class()"
   ]
  },
  {
   "cell_type": "code",
   "execution_count": 3,
   "metadata": {
    "collapsed": false
   },
   "outputs": [],
   "source": [
    "import lasagne.layers as ll\n",
    "fc8W, fc8b = vgg16_class['fc8'].get_params()"
   ]
  },
  {
   "cell_type": "code",
   "execution_count": 4,
   "metadata": {
    "collapsed": false
   },
   "outputs": [],
   "source": [
    "# let's do the weird thing\n",
    "# init from paper\n",
    "newfc8Wval = np.hstack([fc8W.get_value(),np.random.normal(loc=0, scale=1e-1, size=(4096,1))]).astype(np.float32)\n",
    "newfc8bval = np.hstack([fc8b.get_value(),np.array([0])]).astype(np.float32)\n",
    "vgg16_class['adjusted_fc8'] = ll.DenseLayer(vgg16_class['fc7'], num_units=1001, W=newfc8Wval, b=newfc8bval)"
   ]
  },
  {
   "cell_type": "code",
   "execution_count": 9,
   "metadata": {
    "collapsed": false
   },
   "outputs": [
    {
     "data": {
      "text/plain": [
       "(1001,)"
      ]
     },
     "execution_count": 9,
     "metadata": {},
     "output_type": "execute_result"
    }
   ],
   "source": [
    "vgg16_class['adjusted_fc8'].get_params()[1].get_value().shape"
   ]
  },
  {
   "cell_type": "code",
   "execution_count": 10,
   "metadata": {
    "collapsed": false
   },
   "outputs": [
    {
     "data": {
      "text/plain": [
       "(1000,)"
      ]
     },
     "execution_count": 10,
     "metadata": {},
     "output_type": "execute_result"
    }
   ],
   "source": [
    "vgg16_class['fc8'].get_params()[1].get_value().shape"
   ]
  },
  {
   "cell_type": "code",
   "execution_count": 6,
   "metadata": {
    "collapsed": false
   },
   "outputs": [],
   "source": [
    "adjusted_vgg_params = ll.get_all_param_values(vgg16_class['prob'])\n",
    "import cPickle as pickle\n",
    "from os.path import join\n",
    "with open(join(dataset_loc, 'Flukes/humpnet/initial_vgg16.pkl'), 'w') as f:\n",
    "    pickle.dump(adjusted_vgg_params, f)"
   ]
  }
 ],
 "metadata": {
  "kernelspec": {
   "display_name": "Python 2",
   "language": "python",
   "name": "python2"
  },
  "language_info": {
   "codemirror_mode": {
    "name": "ipython",
    "version": 2
   },
   "file_extension": ".py",
   "mimetype": "text/x-python",
   "name": "python",
   "nbconvert_exporter": "python",
   "pygments_lexer": "ipython2",
   "version": "2.7.6"
  }
 },
 "nbformat": 4,
 "nbformat_minor": 0
}
